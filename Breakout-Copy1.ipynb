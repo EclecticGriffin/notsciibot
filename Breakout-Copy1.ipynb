{
 "cells": [
  {
   "cell_type": "code",
   "execution_count": 2,
   "metadata": {},
   "outputs": [],
   "source": [
    "#=======================================#\n",
    "# Yes, this notebook is over-commented. #\n",
    "#=======================================#"
   ]
  },
  {
   "cell_type": "code",
   "execution_count": 1,
   "metadata": {},
   "outputs": [
    {
     "data": {
      "text/html": [
       "<style>.container { width:100% !important; }</style>"
      ],
      "text/plain": [
       "<IPython.core.display.HTML object>"
      ]
     },
     "metadata": {},
     "output_type": "display_data"
    }
   ],
   "source": [
    "# Make notebook span entire screen, horizontally.\n",
    "from IPython.core.display import display, HTML\n",
    "display(HTML(\"<style>.container { width:100% !important; }</style>\"))"
   ]
  },
  {
   "cell_type": "code",
   "execution_count": 1,
   "metadata": {},
   "outputs": [],
   "source": [
    "import gym\n",
    "import numpy as np\n",
    "import os\n",
    "import tensorflow as tf"
   ]
  },
  {
   "cell_type": "code",
   "execution_count": 1,
   "metadata": {},
   "outputs": [],
   "source": [
    "# TODO:\n",
    "#  -> fix loss funtion\n",
    "#  -> check reward processing\n",
    "\n",
    "class PolicyAgent(object):\n",
    "    def __init__(self, num_acts, num_features, num_units=10, learning_rate=0.001, decay=0.99):\n",
    "        self.n_actions = num_acts\n",
    "        self.n_features = num_features\n",
    "        self.learning_rate = learning_rate\n",
    "        self.decay = decay\n",
    "        \n",
    "        self.ep_obs, self.ep_acts, self.ep_rew = [], [], []\n",
    "        \n",
    "        # Build graph (i.e. internal neural network).\n",
    "        self._build(num_units)\n",
    "        \n",
    "        # Create environment within which the graph will train.\n",
    "        self.sess = tf.Session()\n",
    "        \n",
    "        # Evaluate an tf.Operation (returned by global_variables_initializer()) that initializes TRAINABLE VARIABLES.\n",
    "        self.sess.run(tf.global_variables_initializer())\n",
    "        \n",
    "    def _build(self, num_units):\n",
    "        # Set type/shape expectations for a tensor.\n",
    "        self.obs      = tf.placeholder(tf.float32, (None, self.n_features))\n",
    "        self.acts     = tf.placeholder(tf.int32, (None,))\n",
    "        self.rew      = tf.placeholder(tf.float32, (None,))\n",
    "        #self.l_rate   = tf.placeholder(tf.float32)\n",
    "        self.training = tf.placeholder(tf.bool)\n",
    "        \n",
    "        h1 = tf.layers.dense(self.obs, num_units, activation=tf.nn.relu, kernel_initializer=tf.random_normal_initializer(), name='h1')\n",
    "        h2 = tf.layers.dense(h1,       num_units, activation=tf.nn.relu, kernel_initializer=tf.random_normal_initializer(), name='h2')\n",
    "        \n",
    "        dropout = tf.layers.dropout(h2, training=self.training, name='dropout')\n",
    "        \n",
    "        # This needs to have linear activations to conform to the \"unscaled log probabilities\" requirement of `sparse_softmax_cross_entropy_loss_with_logits()`.\n",
    "        out = tf.layers.dense(dropout, self.n_actions, kernel_initializer=tf.random_normal_initializer(), name='out')\n",
    "        \n",
    "        # Compute normalized probabilities associated with each action.\n",
    "        self.probabilities = tf.nn.softmax(out)\n",
    "        \n",
    "        # Returns softmax cross entropy loss.\n",
    "        print(tf.nn.sparse_softmax_cross_entropy_with_logits(logits=out, labels=self.acts))\n",
    "        \n",
    "        loss = tf.reduce_mean(neg_log_prob * self.rew)\n",
    "        \n",
    "        # Set optimizer.\n",
    "        self.train_op = tf.train.AdamOptimizer(self.learning_rate).minimize(loss)\n",
    "    \n",
    "    def choose_action(self, obs):\n",
    "        # Compute probabilities associated with each action.\n",
    "        prob_weights = self.sess.run(self.probabilities, feed_dict={\n",
    "            self.obs:      np.array(obs).reshape(-1, self.n_features),\n",
    "            self.training: False\n",
    "        })\n",
    "        \n",
    "        # Choose action based on computed probabilities.\n",
    "        return np.random.choice(range(prob_weights.shape[1]), p=prob_weights.ravel())\n",
    "    \n",
    "    def store(self, obs, action, reward):\n",
    "        self.ep_obs.append(obs)\n",
    "        self.ep_acts.append(action)\n",
    "        self.ep_rew.append(reward)\n",
    "        \n",
    "    def process_rewards(self, episode):\n",
    "        # Extract episode data:\n",
    "        #  --> `action_history` is an ordered list of actions performed in the episode.\n",
    "        #  --> `outcome` is `True` if the agent won or `False` if the agent lost.\n",
    "        (action_history, outcome) = episode\n",
    "        \n",
    "        discounted_rewards = np.zeros_like(action_history)\n",
    "        running_reward = 1 if outcome else -1\n",
    "        \n",
    "        for action_idx in reversed(range(len(action_history))):\n",
    "            running_reward *= self.decay\n",
    "            discounted_rewards[action_idx] = running_reward\n",
    "        \n",
    "        #for i in reversed(range(len(discounted_rewards))):\n",
    "        #    running_reward *= self.decay\n",
    "        #    running_reward += action_history[i]\n",
    "        #    discounted_rewards[i] = running_reward\n",
    "        \n",
    "        discounted_rewards -= np.mean(discounted_rewards)\n",
    "        if np.std(discounted_rewards) != 0:\n",
    "            discounted_rewards /= np.std(discounted_rewards)\n",
    "        return discounted_rewards\n",
    "    \n",
    "    def train(self, episode):\n",
    "        discounted_rewards = self.process_rewards()\n",
    "        \n",
    "        self.sess.run(self.train_op, feed_dict={\n",
    "            self.obs:      np.array(self.ep_obs).reshape(-1, self.n_features),\n",
    "            self.acts:     np.array(self.ep_acts),\n",
    "            self.rew:      np.array(discounted_rewards),\n",
    "            self.training: True\n",
    "        })\n",
    "        \n",
    "        # Clear episode-specific information.\n",
    "        self.ep_obs, self.ep_acts, self.ep_rew = [], [], []\n",
    "        \n",
    "        return discounted_rewards    "
   ]
  },
  {
   "cell_type": "code",
   "execution_count": null,
   "metadata": {},
   "outputs": [],
   "source": [
    "class AgentHandler(object):\n",
    "    def __init__(self, agent, env, batch_size, num_batches, path='./.model.ckpt', verbosity=1):\n",
    "        assert batch_size > 0, 'invalid batch_size'\n",
    "        assert num_batches > 0, 'invalid num_batches'\n",
    "        \n",
    "        self.agent = agent\n",
    "        self.env = env\n",
    "        \n",
    "        self.batch_size = batch_size\n",
    "        self.num_batches = num_batches\n",
    "        \n",
    "        self.saver = tf.train.Saver() # saves all variables\n",
    "        self.path = path\n",
    "        \n",
    "        self.verbosity = verbosity\n",
    "        \n",
    "    def save(self, path=self.path):\n",
    "        self.saver.save(self.agent.sess, path)\n",
    "        \n",
    "    def load(self, path=self.path):\n",
    "        self.saver.restore(self.agent.sess, path)\n",
    "            \n",
    "    def run(self):\n",
    "        # Stores `(action_history, outcome)` tuples for `self.batch_size` episodes at a time.\n",
    "        batch = []\n",
    "        \n",
    "        for episode in range(self.batch_size * self.num_batches):\n",
    "            # Stores every action taken in current episode.\n",
    "            action_history = []\n",
    "            \n",
    "            # Get observation of initial state of environment.\n",
    "            obs_prev = self.env.reset()\n",
    "            \n",
    "            # Randomly choose first action in order to create first difference frame.\n",
    "            obs_curr, reward, done, _ = self.env.step(env.action_space.sample())\n",
    "\n",
    "            while not done:\n",
    "                # Make difference frame.\n",
    "                diff_frame, obs_prev = obs_curr - obs_prev, obs_curr\n",
    "        \n",
    "                self.env.render()\n",
    "        \n",
    "                # Agent chooses action based on difference frame.\n",
    "                action = self.agent.choose_action(diff_frame)\n",
    "        \n",
    "                # Take action in environment.\n",
    "                curr_obs, reward, done, _ = self.env.step(action)\n",
    "                if self.verbosity >= 2:\n",
    "                    print('Reward: %d' % reward)\n",
    "                    \n",
    "                # This is just exploratory/temporary.\n",
    "                if not done: assert reward == 0, 'intermediate reward not always 0'\n",
    "                \n",
    "                action_history.append(action)\n",
    "\n",
    "            if self.verbosity >= 1:\n",
    "                print('Episode %d finished. ' % episode, end='')\n",
    "                    \n",
    "                if reward == 1:\n",
    "                    if self.verbosity >= 1: print('Agent won.')\n",
    "                    batch.append((action_history, True))\n",
    "                elif reward == -1:\n",
    "                    if self.verbosity >= 1: print('Agent lost.')\n",
    "                    batch.append((action_history, False))\n",
    "                else: assert False, 'unexpected reward'\n",
    "\n",
    "            if len(batch) >= self.batch_size:\n",
    "                # Train on batch and save agent.\n",
    "                for ep in batch:\n",
    "                    self.agent.train(ep)\n",
    "                self.save()\n",
    "                    \n",
    "                # Start next batch.\n",
    "                batch = []"
   ]
  },
  {
   "cell_type": "code",
   "execution_count": 9,
   "metadata": {},
   "outputs": [],
   "source": [
    "env = gym.make('Breakout-v0') # RGB observation space\n",
    "\n",
    "agent = PolicyAgent(num_acts=env.action_space.n,\n",
    "                    num_features=env.observation_space.shape[0],\n",
    "                    num_units=30,\n",
    "                    learning_rate=0.001,\n",
    "                    decay=0.99)"
   ]
  },
  {
   "cell_type": "code",
   "execution_count": 10,
   "metadata": {},
   "outputs": [],
   "source": [
    "max_episodes = 1000000000000 # lmao"
   ]
  },
  {
   "cell_type": "code",
   "execution_count": 5,
   "metadata": {},
   "outputs": [],
   "source": [
    "saver = tf.train.Saver()"
   ]
  },
  {
   "cell_type": "code",
   "execution_count": 6,
   "metadata": {},
   "outputs": [
    {
     "name": "stdout",
     "output_type": "stream",
     "text": [
      "INFO:tensorflow:Restoring parameters from ./breakout_models/model.ckpt\n"
     ]
    }
   ],
   "source": [
    "saver.restore(agent.sess,'./.breakout/model.ckpt')"
   ]
  },
  {
   "cell_type": "code",
   "execution_count": 9,
   "metadata": {},
   "outputs": [],
   "source": [
    "save_path = saver.save(agent.sess, './.breakout/model.ckpt')"
   ]
  },
  {
   "cell_type": "code",
   "execution_count": 11,
   "metadata": {},
   "outputs": [
    {
     "ename": "KeyboardInterrupt",
     "evalue": "",
     "output_type": "error",
     "traceback": [
      "\u001b[0;31m---------------------------------------------------------------------------\u001b[0m",
      "\u001b[0;31mKeyboardInterrupt\u001b[0m                         Traceback (most recent call last)",
      "\u001b[0;32m<ipython-input-11-202e1f8ab422>\u001b[0m in \u001b[0;36m<module>\u001b[0;34m()\u001b[0m\n\u001b[1;32m      8\u001b[0m         \u001b[0mobservation\u001b[0m \u001b[0;34m=\u001b[0m \u001b[0mobs_array\u001b[0m\u001b[0;34m[\u001b[0m\u001b[0;36m0\u001b[0m\u001b[0;34m]\u001b[0m \u001b[0;34m-\u001b[0m \u001b[0mobs_array\u001b[0m\u001b[0;34m[\u001b[0m\u001b[0;36m1\u001b[0m\u001b[0;34m]\u001b[0m\u001b[0;34m\u001b[0m\u001b[0m\n\u001b[1;32m      9\u001b[0m \u001b[0;34m\u001b[0m\u001b[0m\n\u001b[0;32m---> 10\u001b[0;31m         \u001b[0menv\u001b[0m\u001b[0;34m.\u001b[0m\u001b[0mrender\u001b[0m\u001b[0;34m(\u001b[0m\u001b[0;34m)\u001b[0m\u001b[0;34m\u001b[0m\u001b[0m\n\u001b[0m\u001b[1;32m     11\u001b[0m         \u001b[0maction\u001b[0m \u001b[0;34m=\u001b[0m \u001b[0magent\u001b[0m\u001b[0;34m.\u001b[0m\u001b[0mchoose_action\u001b[0m\u001b[0;34m(\u001b[0m\u001b[0mobservation\u001b[0m\u001b[0;34m)\u001b[0m\u001b[0;34m\u001b[0m\u001b[0m\n\u001b[1;32m     12\u001b[0m         \u001b[0mobs\u001b[0m\u001b[0;34m,\u001b[0m \u001b[0mreward\u001b[0m\u001b[0;34m,\u001b[0m \u001b[0mdone\u001b[0m\u001b[0;34m,\u001b[0m \u001b[0m_\u001b[0m \u001b[0;34m=\u001b[0m \u001b[0menv\u001b[0m\u001b[0;34m.\u001b[0m\u001b[0mstep\u001b[0m\u001b[0;34m(\u001b[0m\u001b[0maction\u001b[0m\u001b[0;34m)\u001b[0m\u001b[0;34m\u001b[0m\u001b[0m\n",
      "\u001b[0;32m~/independent_study_project/.env/lib/python3.5/site-packages/gym/core.py\u001b[0m in \u001b[0;36mrender\u001b[0;34m(self, mode)\u001b[0m\n\u001b[1;32m    282\u001b[0m \u001b[0;34m\u001b[0m\u001b[0m\n\u001b[1;32m    283\u001b[0m     \u001b[0;32mdef\u001b[0m \u001b[0mrender\u001b[0m\u001b[0;34m(\u001b[0m\u001b[0mself\u001b[0m\u001b[0;34m,\u001b[0m \u001b[0mmode\u001b[0m\u001b[0;34m=\u001b[0m\u001b[0;34m'human'\u001b[0m\u001b[0;34m)\u001b[0m\u001b[0;34m:\u001b[0m\u001b[0;34m\u001b[0m\u001b[0m\n\u001b[0;32m--> 284\u001b[0;31m         \u001b[0;32mreturn\u001b[0m \u001b[0mself\u001b[0m\u001b[0;34m.\u001b[0m\u001b[0menv\u001b[0m\u001b[0;34m.\u001b[0m\u001b[0mrender\u001b[0m\u001b[0;34m(\u001b[0m\u001b[0mmode\u001b[0m\u001b[0;34m)\u001b[0m\u001b[0;34m\u001b[0m\u001b[0m\n\u001b[0m\u001b[1;32m    285\u001b[0m \u001b[0;34m\u001b[0m\u001b[0m\n\u001b[1;32m    286\u001b[0m     \u001b[0;32mdef\u001b[0m \u001b[0mclose\u001b[0m\u001b[0;34m(\u001b[0m\u001b[0mself\u001b[0m\u001b[0;34m)\u001b[0m\u001b[0;34m:\u001b[0m\u001b[0;34m\u001b[0m\u001b[0m\n",
      "\u001b[0;32m~/independent_study_project/.env/lib/python3.5/site-packages/gym/envs/atari/atari_env.py\u001b[0m in \u001b[0;36mrender\u001b[0;34m(self, mode)\u001b[0m\n\u001b[1;32m    108\u001b[0m             \u001b[0;32mif\u001b[0m \u001b[0mself\u001b[0m\u001b[0;34m.\u001b[0m\u001b[0mviewer\u001b[0m \u001b[0;32mis\u001b[0m \u001b[0;32mNone\u001b[0m\u001b[0;34m:\u001b[0m\u001b[0;34m\u001b[0m\u001b[0m\n\u001b[1;32m    109\u001b[0m                 \u001b[0mself\u001b[0m\u001b[0;34m.\u001b[0m\u001b[0mviewer\u001b[0m \u001b[0;34m=\u001b[0m \u001b[0mrendering\u001b[0m\u001b[0;34m.\u001b[0m\u001b[0mSimpleImageViewer\u001b[0m\u001b[0;34m(\u001b[0m\u001b[0;34m)\u001b[0m\u001b[0;34m\u001b[0m\u001b[0m\n\u001b[0;32m--> 110\u001b[0;31m             \u001b[0mself\u001b[0m\u001b[0;34m.\u001b[0m\u001b[0mviewer\u001b[0m\u001b[0;34m.\u001b[0m\u001b[0mimshow\u001b[0m\u001b[0;34m(\u001b[0m\u001b[0mimg\u001b[0m\u001b[0;34m)\u001b[0m\u001b[0;34m\u001b[0m\u001b[0m\n\u001b[0m\u001b[1;32m    111\u001b[0m             \u001b[0;32mreturn\u001b[0m \u001b[0mself\u001b[0m\u001b[0;34m.\u001b[0m\u001b[0mviewer\u001b[0m\u001b[0;34m.\u001b[0m\u001b[0misopen\u001b[0m\u001b[0;34m\u001b[0m\u001b[0m\n\u001b[1;32m    112\u001b[0m \u001b[0;34m\u001b[0m\u001b[0m\n",
      "\u001b[0;32m~/independent_study_project/.env/lib/python3.5/site-packages/gym/envs/classic_control/rendering.py\u001b[0m in \u001b[0;36mimshow\u001b[0;34m(self, arr)\u001b[0m\n\u001b[1;32m    334\u001b[0m         \u001b[0;32massert\u001b[0m \u001b[0mlen\u001b[0m\u001b[0;34m(\u001b[0m\u001b[0marr\u001b[0m\u001b[0;34m.\u001b[0m\u001b[0mshape\u001b[0m\u001b[0;34m)\u001b[0m \u001b[0;34m==\u001b[0m \u001b[0;36m3\u001b[0m\u001b[0;34m,\u001b[0m \u001b[0;34m\"You passed in an image with the wrong number shape\"\u001b[0m\u001b[0;34m\u001b[0m\u001b[0m\n\u001b[1;32m    335\u001b[0m         \u001b[0mimage\u001b[0m \u001b[0;34m=\u001b[0m \u001b[0mpyglet\u001b[0m\u001b[0;34m.\u001b[0m\u001b[0mimage\u001b[0m\u001b[0;34m.\u001b[0m\u001b[0mImageData\u001b[0m\u001b[0;34m(\u001b[0m\u001b[0marr\u001b[0m\u001b[0;34m.\u001b[0m\u001b[0mshape\u001b[0m\u001b[0;34m[\u001b[0m\u001b[0;36m1\u001b[0m\u001b[0;34m]\u001b[0m\u001b[0;34m,\u001b[0m \u001b[0marr\u001b[0m\u001b[0;34m.\u001b[0m\u001b[0mshape\u001b[0m\u001b[0;34m[\u001b[0m\u001b[0;36m0\u001b[0m\u001b[0;34m]\u001b[0m\u001b[0;34m,\u001b[0m \u001b[0;34m'RGB'\u001b[0m\u001b[0;34m,\u001b[0m \u001b[0marr\u001b[0m\u001b[0;34m.\u001b[0m\u001b[0mtobytes\u001b[0m\u001b[0;34m(\u001b[0m\u001b[0;34m)\u001b[0m\u001b[0;34m,\u001b[0m \u001b[0mpitch\u001b[0m\u001b[0;34m=\u001b[0m\u001b[0marr\u001b[0m\u001b[0;34m.\u001b[0m\u001b[0mshape\u001b[0m\u001b[0;34m[\u001b[0m\u001b[0;36m1\u001b[0m\u001b[0;34m]\u001b[0m\u001b[0;34m*\u001b[0m\u001b[0;34m-\u001b[0m\u001b[0;36m3\u001b[0m\u001b[0;34m)\u001b[0m\u001b[0;34m\u001b[0m\u001b[0m\n\u001b[0;32m--> 336\u001b[0;31m         \u001b[0mself\u001b[0m\u001b[0;34m.\u001b[0m\u001b[0mwindow\u001b[0m\u001b[0;34m.\u001b[0m\u001b[0mclear\u001b[0m\u001b[0;34m(\u001b[0m\u001b[0;34m)\u001b[0m\u001b[0;34m\u001b[0m\u001b[0m\n\u001b[0m\u001b[1;32m    337\u001b[0m         \u001b[0mself\u001b[0m\u001b[0;34m.\u001b[0m\u001b[0mwindow\u001b[0m\u001b[0;34m.\u001b[0m\u001b[0mswitch_to\u001b[0m\u001b[0;34m(\u001b[0m\u001b[0;34m)\u001b[0m\u001b[0;34m\u001b[0m\u001b[0m\n\u001b[1;32m    338\u001b[0m         \u001b[0mself\u001b[0m\u001b[0;34m.\u001b[0m\u001b[0mwindow\u001b[0m\u001b[0;34m.\u001b[0m\u001b[0mdispatch_events\u001b[0m\u001b[0;34m(\u001b[0m\u001b[0;34m)\u001b[0m\u001b[0;34m\u001b[0m\u001b[0m\n",
      "\u001b[0;32m~/independent_study_project/.env/lib/python3.5/site-packages/pyglet/window/__init__.py\u001b[0m in \u001b[0;36mclear\u001b[0;34m(self)\u001b[0m\n\u001b[1;32m   1220\u001b[0m         \u001b[0;32mpass\u001b[0m\u001b[0;34m\u001b[0m\u001b[0m\n\u001b[1;32m   1221\u001b[0m \u001b[0;34m\u001b[0m\u001b[0m\n\u001b[0;32m-> 1222\u001b[0;31m     \u001b[0;32mdef\u001b[0m \u001b[0mclear\u001b[0m\u001b[0;34m(\u001b[0m\u001b[0mself\u001b[0m\u001b[0;34m)\u001b[0m\u001b[0;34m:\u001b[0m\u001b[0;34m\u001b[0m\u001b[0m\n\u001b[0m\u001b[1;32m   1223\u001b[0m         \"\"\"Clear the window.\n\u001b[1;32m   1224\u001b[0m \u001b[0;34m\u001b[0m\u001b[0m\n",
      "\u001b[0;31mKeyboardInterrupt\u001b[0m: "
     ]
    }
   ],
   "source": [
    "avg = []\n",
    "\n",
    "cbuf = [None] * 20\n",
    "c = 0\n",
    "\n",
    "for episode_num in range(max_episodes):\n",
    "    obs_prev = env.reset()\n",
    "    \n",
    "    # Randomly choose first action in order to create first difference frame.\n",
    "    obs, rew, done, _ = env.step(env.action_space.sample())\n",
    "    \n",
    "    while True:\n",
    "        # Make difference frame.\n",
    "        diff_frame, obs_prev = obs - obs_prev, obs\n",
    "        \n",
    "        env.render()\n",
    "        \n",
    "        # Agent chooses action based on difference frame.\n",
    "        action = agent.choose_action(diff_frame)\n",
    "        \n",
    "        # Take action in environment.\n",
    "        obs, rew, done, _ = env.step(action)\n",
    "        \n",
    "        cbuf[c] = obs\n",
    "        c = c + 1 if c < len(cbuf) - 1 else 0\n",
    "        \n",
    "        for i in range(cbuf):\n",
    "            if i > 0:\n",
    "                if not numpy.array_equal(cbuf[i], cbuf[i-1]):\n",
    "                    stal\n",
    "        \n",
    "        # Remember stuff for delayed reward processing.\n",
    "        agent.store(diff_frame, action, rew)\n",
    "        \n",
    "        if done:\n",
    "            # Train model on episode.\n",
    "            rewards = agent.train()\n",
    "            \n",
    "            avg.append(np.sum(rewards))\n",
    "            \n",
    "            # Save model every 100 episodes.\n",
    "            if len(avg) >= 100:\n",
    "                print(np.mean(avg), end=', ')\n",
    "                save_path = saver.save(agent.sess, './breakout_models/model.ckpt')\n",
    "            \n",
    "            break"
   ]
  }
 ],
 "metadata": {
  "kernelspec": {
   "display_name": "Python 3",
   "language": "python",
   "name": "python3"
  },
  "language_info": {
   "codemirror_mode": {
    "name": "ipython",
    "version": 3
   },
   "file_extension": ".py",
   "mimetype": "text/x-python",
   "name": "python",
   "nbconvert_exporter": "python",
   "pygments_lexer": "ipython3",
   "version": "3.5.4"
  }
 },
 "nbformat": 4,
 "nbformat_minor": 2
}
