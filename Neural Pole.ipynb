{
 "cells": [
  {
   "cell_type": "code",
   "execution_count": 1,
   "metadata": {},
   "outputs": [],
   "source": [
    "import tensorflow as tf\n",
    "import gym \n",
    "import numpy as np"
   ]
  },
  {
   "cell_type": "code",
   "execution_count": 2,
   "metadata": {},
   "outputs": [],
   "source": [
    "def discount(reward, gamma):\n",
    "    discount = np.zeros_like(reward)\n",
    "    G = 0.0\n",
    "    for i in reversed(range(0, len(reward))):\n",
    "        G = G * gamma + reward[i]\n",
    "        discount[i] = G\n",
    "\n",
    "    mean = np.mean(discount)\n",
    "    std = np.std(discount)\n",
    "    discount = (discount - mean) / (std)\n",
    "    return discount"
   ]
  },
  {
   "cell_type": "code",
   "execution_count": 3,
   "metadata": {},
   "outputs": [],
   "source": [
    "num_inputs = 4\n",
    "num_hidden = 4\n",
    "num_outputs = 2\n",
    "learning_rate = 0.01\n",
    "gamma = 0.9"
   ]
  },
  {
   "cell_type": "code",
   "execution_count": 62,
   "metadata": {},
   "outputs": [],
   "source": [
    "# Define the model\n",
    "\n",
    "X = tf.placeholder(tf.float32,shape=(None, num_inputs))\n",
    "Y = tf.placeholder(tf.int32,shape=(None,2))\n",
    "reward = tf.placeholder(tf.float32)\n",
    "\n",
    "hidden_one = tf.layers.dense(X,num_hidden,activation=tf.nn.relu)\n",
    "#hidden_two = tf.layers.dense(hidden_one,num_hidden,activation=tf.nn.relu)\n",
    "logits = tf.layers.dense(hidden_one, num_outputs,activation=None)\n",
    "\n",
    "probabilities = tf.nn.softmax(logits)\n",
    "expected_reward = tf.layers.dense(logits,1, activation=tf.nn.tanh)\n",
    "log_prob = tf.log(probabilities)\n",
    "\n",
    "action = tf.multinomial(probabilities, num_samples=1)"
   ]
  },
  {
   "cell_type": "code",
   "execution_count": 63,
   "metadata": {},
   "outputs": [],
   "source": [
    "cross_entropy = tf.losses.softmax_cross_entropy(Y, logits)\n",
    "#mse = tf.losses.mean_squared_error(reward,expected_reward)\n",
    "err_sum = cross_entropy \n",
    "\n",
    "optimizer = tf.train.AdamOptimizer(learning_rate).minimize(err_sum)"
   ]
  },
  {
   "cell_type": "code",
   "execution_count": 64,
   "metadata": {},
   "outputs": [],
   "source": [
    "init = tf.global_variables_initializer()\n",
    "saver = tf.train.Saver()"
   ]
  },
  {
   "cell_type": "code",
   "execution_count": 65,
   "metadata": {},
   "outputs": [],
   "source": [
    "def rollout(env,sess, max_steps, gamma):\n",
    "    \"\"\"\n",
    "    Plays a single game\n",
    "    Returns: Input, discounted_reward, action_taken\n",
    "    \"\"\"\n",
    "    obs = env.reset()\n",
    "    inputs = []\n",
    "    rewards = []\n",
    "    actions = []\n",
    "    done = False\n",
    "    \n",
    "    for step in range(max_steps):\n",
    "        inputs.append(obs.reshape(1,4))\n",
    "        act = sess.run(action, feed_dict={X:obs.reshape(1,4)})\n",
    "        act = act[0][0]\n",
    "        \n",
    "        actions.append(act)\n",
    "        obs, reward, done, _ = env.step(act)\n",
    "    \n",
    "        rewards.append(reward)\n",
    "        if done:\n",
    "            break\n",
    "    discounted_rewards = discount(rewards, gamma)\n",
    "    return inputs, discounted_rewards, actions\n",
    "            "
   ]
  },
  {
   "cell_type": "code",
   "execution_count": 66,
   "metadata": {},
   "outputs": [],
   "source": [
    "def num_to_one_hot(number):\n",
    "    vector = np.zeros((1,2))\n",
    "    vector[0][number] = 1\n",
    "    return vector\n",
    "def reverse_to_one_hot(number):\n",
    "    vector = np.zeros((1,2))\n",
    "    vector[0][np.abs(1-number)] = 1\n",
    "    return vector"
   ]
  },
  {
   "cell_type": "code",
   "execution_count": 67,
   "metadata": {},
   "outputs": [
    {
     "data": {
      "text/plain": [
       "array([[0., 1.]])"
      ]
     },
     "execution_count": 67,
     "metadata": {},
     "output_type": "execute_result"
    }
   ],
   "source": [
    "num_to_one_hot(1)\n"
   ]
  },
  {
   "cell_type": "code",
   "execution_count": null,
   "metadata": {
    "scrolled": true
   },
   "outputs": [
    {
     "name": "stdout",
     "output_type": "stream",
     "text": [
      "\u001b[33mWARN: gym.spaces.Box autodetected dtype as <class 'numpy.float32'>. Please provide explicit dtype.\u001b[0m\n",
      "Avg run: 10.0\n",
      "Avg run: 20.0\n",
      "Avg run: 22.0\n",
      "Avg run: 15.0\n",
      "Avg run: 45.0\n",
      "Avg run: 25.0\n",
      "Avg run: 17.0\n",
      "Avg run: 36.0\n",
      "Avg run: 17.0\n",
      "Avg run: 40.0\n",
      "Avg run: 40.0\n",
      "Avg run: 21.0\n",
      "Avg run: 13.0\n",
      "Avg run: 38.0\n",
      "Avg run: 20.0\n",
      "Avg run: 63.0\n",
      "Avg run: 23.0\n",
      "Avg run: 10.0\n",
      "Avg run: 31.0\n",
      "Avg run: 14.0\n",
      "Avg run: 11.0\n",
      "Avg run: 28.0\n",
      "Avg run: 17.0\n",
      "Avg run: 62.0\n",
      "Avg run: 21.0\n",
      "Avg run: 45.0\n",
      "Avg run: 33.0\n",
      "Avg run: 11.0\n",
      "Avg run: 17.0\n",
      "Avg run: 52.0\n",
      "Avg run: 42.0\n",
      "Avg run: 31.0\n",
      "Avg run: 20.0\n",
      "Avg run: 21.0\n"
     ]
    }
   ],
   "source": [
    "epoch_num = 20000\n",
    "threshold = 50\n",
    "\n",
    "with tf.Session() as sess:\n",
    "    sess.run(init)\n",
    "    env = gym.make('CartPole-v1')\n",
    "    \n",
    "    \n",
    "    for episode in range(epoch_num):\n",
    "        observations, rewards, actions = rollout(env,sess,500,0.9)\n",
    "        lengths = []\n",
    "        \n",
    "        \n",
    "        one_hot_actions = np.array([num_to_one_hot(a) for a in actions]).reshape(-1,2)\n",
    "        feed_dict = {X:np.array(observations).reshape(-1,4)*rewards.reshape(-1,1), Y:one_hot_actions, reward:rewards}\n",
    "        sess.run(optimizer,feed_dict=feed_dict)\n",
    "#         else:\n",
    "#             one_hot_actions = np.array([reverse_to_one_hot(a) for a in actions]).reshape(-1,2)\n",
    "\n",
    "#         feed_dict = {X:np.array(observations).reshape(-1,4), Y:one_hot_actions, reward:rewards}\n",
    "\n",
    "\n",
    "#         sess.run(optimizer,feed_dict=feed_dict)\n",
    "        #print(len(rewards), end=', ')\n",
    "        lengths.append(len(rewards))\n",
    "        if episode % 100 == 0:\n",
    "            avg = np.mean(lengths)\n",
    "            lengths = []\n",
    "            print('Avg run: {}'.format(avg))\n",
    "#             print(sess.run(tf.trainable_variables()[0]))\n",
    "       \n",
    "   "
   ]
  },
  {
   "cell_type": "code",
   "execution_count": null,
   "metadata": {},
   "outputs": [],
   "source": []
  }
 ],
 "metadata": {
  "kernelspec": {
   "display_name": "Python 3",
   "language": "python",
   "name": "python3"
  },
  "language_info": {
   "codemirror_mode": {
    "name": "ipython",
    "version": 3
   },
   "file_extension": ".py",
   "mimetype": "text/x-python",
   "name": "python",
   "nbconvert_exporter": "python",
   "pygments_lexer": "ipython3",
   "version": "3.5.4"
  }
 },
 "nbformat": 4,
 "nbformat_minor": 2
}
